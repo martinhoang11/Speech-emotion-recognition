{
 "cells": [
  {
   "cell_type": "code",
   "execution_count": 1,
   "metadata": {},
   "outputs": [],
   "source": [
    "import pandas as pd\n",
    "import audioread\n",
    "import numpy as np\n",
    "import librosa\n",
    "import math\n",
    "import re\n",
    "import os\n",
    "from multiprocessing import Pool\n",
    "import warnings\n",
    "warnings.filterwarnings('ignore')"
   ]
  },
  {
   "cell_type": "code",
   "execution_count": 2,
   "metadata": {},
   "outputs": [],
   "source": [
    "data_audio = pd.read_csv('../Handout/label_train.csv')"
   ]
  },
  {
   "cell_type": "code",
   "execution_count": 3,
   "metadata": {},
   "outputs": [
    {
     "data": {
      "text/html": [
       "<div>\n",
       "<style scoped>\n",
       "    .dataframe tbody tr th:only-of-type {\n",
       "        vertical-align: middle;\n",
       "    }\n",
       "\n",
       "    .dataframe tbody tr th {\n",
       "        vertical-align: top;\n",
       "    }\n",
       "\n",
       "    .dataframe thead th {\n",
       "        text-align: right;\n",
       "    }\n",
       "</style>\n",
       "<table border=\"1\" class=\"dataframe\">\n",
       "  <thead>\n",
       "    <tr style=\"text-align: right;\">\n",
       "      <th></th>\n",
       "      <th>File</th>\n",
       "      <th>Label</th>\n",
       "    </tr>\n",
       "  </thead>\n",
       "  <tbody>\n",
       "    <tr>\n",
       "      <th>0</th>\n",
       "      <td>PAEP-004139_noise.png</td>\n",
       "      <td>0</td>\n",
       "    </tr>\n",
       "    <tr>\n",
       "      <th>1</th>\n",
       "      <td>PAEP-000458_stretch.png</td>\n",
       "      <td>4</td>\n",
       "    </tr>\n",
       "    <tr>\n",
       "      <th>2</th>\n",
       "      <td>PAEP-004966_shift.png</td>\n",
       "      <td>1</td>\n",
       "    </tr>\n",
       "    <tr>\n",
       "      <th>3</th>\n",
       "      <td>PAEP-004845_noise.png</td>\n",
       "      <td>4</td>\n",
       "    </tr>\n",
       "    <tr>\n",
       "      <th>4</th>\n",
       "      <td>PAEP-004196_stretch.png</td>\n",
       "      <td>3</td>\n",
       "    </tr>\n",
       "  </tbody>\n",
       "</table>\n",
       "</div>"
      ],
      "text/plain": [
       "                      File  Label\n",
       "0    PAEP-004139_noise.png      0\n",
       "1  PAEP-000458_stretch.png      4\n",
       "2    PAEP-004966_shift.png      1\n",
       "3    PAEP-004845_noise.png      4\n",
       "4  PAEP-004196_stretch.png      3"
      ]
     },
     "execution_count": 3,
     "metadata": {},
     "output_type": "execute_result"
    }
   ],
   "source": [
    "#Mã label: neutral(0), happy(1), sad(2), anger(3), fear(4), disgust(5)\n",
    "label = {0:'neutral', 1:'happy', 2:'sad', 3:'anger', 4:'fear', 5:'disgust'}\n",
    "data_audio.head()"
   ]
  },
  {
   "cell_type": "code",
   "execution_count": 4,
   "metadata": {},
   "outputs": [],
   "source": [
    "def getfeature(fname):\n",
    "    timeseries_length=128\n",
    "    hop_length = 512\n",
    "    data = np.zeros((timeseries_length, 33), dtype=np.float64)\n",
    "\n",
    "    y, sr = librosa.load(fname)\n",
    "    mfcc = librosa.feature.mfcc(y=y, sr=sr, hop_length=hop_length, n_mfcc=13)\n",
    "    spectral_center = librosa.feature.spectral_centroid(y=y, sr=sr, hop_length=hop_length)\n",
    "    chroma = librosa.feature.chroma_stft(y=y, sr=sr, hop_length=hop_length)\n",
    "    spectral_contrast = librosa.feature.spectral_contrast(y=y, sr=sr, hop_length=hop_length)\n",
    "\n",
    "    filelength = timeseries_length if mfcc.shape[1] >= timeseries_length else mfcc.shape[1]\n",
    "    \n",
    "\n",
    "    data[-filelength:, 0:13] = mfcc.T[0:timeseries_length, :]\n",
    "    data[-filelength:, 13:14] = spectral_center.T[0:timeseries_length, :]\n",
    "    data[-filelength:, 14:26] = chroma.T[0:timeseries_length, :]\n",
    "    data[-filelength:, 26:33] = spectral_contrast.T[0:timeseries_length, :]\n",
    "\n",
    "    return data"
   ]
  },
  {
   "cell_type": "code",
   "execution_count": 5,
   "metadata": {},
   "outputs": [],
   "source": [
    "def processtrain(fname):\n",
    "    data = getfeature(fname)\n",
    "    name = fname.split('/')[-1] \n",
    "    emotion = data_audio[data_audio[\"File\"] == name][\"Label\"].item()\n",
    "    return data, emotion\n",
    "\n",
    "def processtest(fname):\n",
    "    data = getfeature(fname)\n",
    "    name = fname.split('/')[-1]   \n",
    "    return data, name"
   ]
  },
  {
   "cell_type": "code",
   "execution_count": 6,
   "metadata": {},
   "outputs": [],
   "source": [
    "def absoluteFilePaths(directory):\n",
    "    for dirpath,_,filenames in os.walk(directory):\n",
    "        for f in filenames:\n",
    "            yield os.path.abspath(os.path.join(dirpath, f))"
   ]
  },
  {
   "cell_type": "code",
   "execution_count": 7,
   "metadata": {},
   "outputs": [],
   "source": [
    "def train():\n",
    "    files = list(absoluteFilePaths('../Handout/Train/'))\n",
    "    p = Pool(4)    \n",
    "    data = p.map(processtrain, files)\n",
    "    X = [data[i][0] for i in range(len(data))]\n",
    "    X = np.asarray(X)\n",
    "\n",
    "    emotion = [data[i][1] for i in range(len(data))]\n",
    "\n",
    "    np.savez('../npz/train_augmentaion', X=X, emotion=emotion)\n",
    "    print('Save train npz successfully !')\n",
    "    \n",
    "def test():\n",
    "    files = list(absoluteFilePaths('../Public_Test/Public_Test/'))\n",
    "    p = Pool(4) \n",
    "    data = p.map(processtest, files)\n",
    "    \n",
    "    X = [data[i][0] for i in range(len(data))]\n",
    "    X = np.asarray(X)\n",
    "    \n",
    "    name = [data[i][1] for i in range(len(data))]\n",
    "    np.savez('../npz/test_augmentation', X=X, name=name)\n",
    "    print('Save test npz successfully !')"
   ]
  },
  {
   "cell_type": "code",
   "execution_count": null,
   "metadata": {},
   "outputs": [],
   "source": [
    "# train()\n",
    "# test()"
   ]
  }
 ],
 "metadata": {
  "kernelspec": {
   "display_name": "Python 3",
   "language": "python",
   "name": "python3"
  },
  "language_info": {
   "codemirror_mode": {
    "name": "ipython",
    "version": 3
   },
   "file_extension": ".py",
   "mimetype": "text/x-python",
   "name": "python",
   "nbconvert_exporter": "python",
   "pygments_lexer": "ipython3",
   "version": "3.6.8"
  }
 },
 "nbformat": 4,
 "nbformat_minor": 2
}
