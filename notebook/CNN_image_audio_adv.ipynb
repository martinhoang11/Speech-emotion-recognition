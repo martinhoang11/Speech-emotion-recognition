{
 "cells": [
  {
   "cell_type": "code",
   "execution_count": 1,
   "metadata": {},
   "outputs": [
    {
     "name": "stderr",
     "output_type": "stream",
     "text": [
      "/home/bigbrain/huy/Speech-emotion-recognition/emr/lib/python3.6/site-packages/tensorflow/python/framework/dtypes.py:516: FutureWarning: Passing (type, 1) or '1type' as a synonym of type is deprecated; in a future version of numpy, it will be understood as (type, (1,)) / '(1,)type'.\n",
      "  _np_qint8 = np.dtype([(\"qint8\", np.int8, 1)])\n",
      "/home/bigbrain/huy/Speech-emotion-recognition/emr/lib/python3.6/site-packages/tensorflow/python/framework/dtypes.py:517: FutureWarning: Passing (type, 1) or '1type' as a synonym of type is deprecated; in a future version of numpy, it will be understood as (type, (1,)) / '(1,)type'.\n",
      "  _np_quint8 = np.dtype([(\"quint8\", np.uint8, 1)])\n",
      "/home/bigbrain/huy/Speech-emotion-recognition/emr/lib/python3.6/site-packages/tensorflow/python/framework/dtypes.py:518: FutureWarning: Passing (type, 1) or '1type' as a synonym of type is deprecated; in a future version of numpy, it will be understood as (type, (1,)) / '(1,)type'.\n",
      "  _np_qint16 = np.dtype([(\"qint16\", np.int16, 1)])\n",
      "/home/bigbrain/huy/Speech-emotion-recognition/emr/lib/python3.6/site-packages/tensorflow/python/framework/dtypes.py:519: FutureWarning: Passing (type, 1) or '1type' as a synonym of type is deprecated; in a future version of numpy, it will be understood as (type, (1,)) / '(1,)type'.\n",
      "  _np_quint16 = np.dtype([(\"quint16\", np.uint16, 1)])\n",
      "/home/bigbrain/huy/Speech-emotion-recognition/emr/lib/python3.6/site-packages/tensorflow/python/framework/dtypes.py:520: FutureWarning: Passing (type, 1) or '1type' as a synonym of type is deprecated; in a future version of numpy, it will be understood as (type, (1,)) / '(1,)type'.\n",
      "  _np_qint32 = np.dtype([(\"qint32\", np.int32, 1)])\n",
      "/home/bigbrain/huy/Speech-emotion-recognition/emr/lib/python3.6/site-packages/tensorflow/python/framework/dtypes.py:525: FutureWarning: Passing (type, 1) or '1type' as a synonym of type is deprecated; in a future version of numpy, it will be understood as (type, (1,)) / '(1,)type'.\n",
      "  np_resource = np.dtype([(\"resource\", np.ubyte, 1)])\n",
      "/home/bigbrain/huy/Speech-emotion-recognition/emr/lib/python3.6/site-packages/tensorboard/compat/tensorflow_stub/dtypes.py:541: FutureWarning: Passing (type, 1) or '1type' as a synonym of type is deprecated; in a future version of numpy, it will be understood as (type, (1,)) / '(1,)type'.\n",
      "  _np_qint8 = np.dtype([(\"qint8\", np.int8, 1)])\n",
      "/home/bigbrain/huy/Speech-emotion-recognition/emr/lib/python3.6/site-packages/tensorboard/compat/tensorflow_stub/dtypes.py:542: FutureWarning: Passing (type, 1) or '1type' as a synonym of type is deprecated; in a future version of numpy, it will be understood as (type, (1,)) / '(1,)type'.\n",
      "  _np_quint8 = np.dtype([(\"quint8\", np.uint8, 1)])\n",
      "/home/bigbrain/huy/Speech-emotion-recognition/emr/lib/python3.6/site-packages/tensorboard/compat/tensorflow_stub/dtypes.py:543: FutureWarning: Passing (type, 1) or '1type' as a synonym of type is deprecated; in a future version of numpy, it will be understood as (type, (1,)) / '(1,)type'.\n",
      "  _np_qint16 = np.dtype([(\"qint16\", np.int16, 1)])\n",
      "/home/bigbrain/huy/Speech-emotion-recognition/emr/lib/python3.6/site-packages/tensorboard/compat/tensorflow_stub/dtypes.py:544: FutureWarning: Passing (type, 1) or '1type' as a synonym of type is deprecated; in a future version of numpy, it will be understood as (type, (1,)) / '(1,)type'.\n",
      "  _np_quint16 = np.dtype([(\"quint16\", np.uint16, 1)])\n",
      "/home/bigbrain/huy/Speech-emotion-recognition/emr/lib/python3.6/site-packages/tensorboard/compat/tensorflow_stub/dtypes.py:545: FutureWarning: Passing (type, 1) or '1type' as a synonym of type is deprecated; in a future version of numpy, it will be understood as (type, (1,)) / '(1,)type'.\n",
      "  _np_qint32 = np.dtype([(\"qint32\", np.int32, 1)])\n",
      "/home/bigbrain/huy/Speech-emotion-recognition/emr/lib/python3.6/site-packages/tensorboard/compat/tensorflow_stub/dtypes.py:550: FutureWarning: Passing (type, 1) or '1type' as a synonym of type is deprecated; in a future version of numpy, it will be understood as (type, (1,)) / '(1,)type'.\n",
      "  np_resource = np.dtype([(\"resource\", np.ubyte, 1)])\n"
     ]
    }
   ],
   "source": [
    "import os\n",
    "import pandas as pd\n",
    "from glob import glob\n",
    "import numpy as np\n",
    "import librosa\n",
    "import librosa.display\n",
    "import pylab\n",
    "import matplotlib.pyplot as plt\n",
    "from matplotlib import figure\n",
    "import gc\n",
    "import audioread\n",
    "import numpy as np\n",
    "from numpy.random import seed\n",
    "seed(2018)\n",
    "import os\n",
    "from tensorflow import set_random_seed\n",
    "set_random_seed(2018)\n",
    "import pandas as pd\n",
    "from tensorflow.keras import regularizers\n",
    "from tensorflow.keras.models import Sequential\n",
    "from tensorflow.keras.layers import LSTM\n",
    "from tensorflow.keras.layers import Dense, Dropout\n",
    "from tensorflow.keras.regularizers import l2, l1\n",
    "from tensorflow.keras.optimizers import Adam,Adadelta,Nadam,Adamax,RMSprop\n",
    "from tensorflow.keras.layers import Conv2D, MaxPooling2D, MaxPool2D, GlobalAveragePooling2D, Input, Convolution2D,Add\n",
    "from tensorflow.keras.layers import Dense, Activation, Flatten, Dropout, BatchNormalization, AveragePooling2D,ZeroPadding2D\n",
    "from sklearn.model_selection import train_test_split\n",
    "from tensorflow.keras import regularizers, optimizers\n",
    "from tensorflow.keras.models import Model\n",
    "import warnings\n",
    "from tensorflow.keras.initializers import glorot_uniform\n",
    "from tensorflow.keras.optimizers import Adam, RMSprop\n",
    "from keras_preprocessing.image import ImageDataGenerator\n",
    "from tqdm import tqdm\n",
    "from tensorflow.keras.layers import Concatenate\n",
    "warnings.filterwarnings('ignore')\n",
    "import tensorflow_hub as hub\n",
    "import tensorflow as tf\n",
    "from tensorflow.keras import layers"
   ]
  },
  {
   "cell_type": "code",
   "execution_count": 2,
   "metadata": {},
   "outputs": [],
   "source": [
    "#Get full path of all files\n",
    "def absoluteFilePaths(directory):\n",
    "    for dirpath,_,filenames in os.walk(directory):\n",
    "        for f in filenames:\n",
    "            yield os.path.abspath(os.path.join(dirpath, f))"
   ]
  },
  {
   "cell_type": "code",
   "execution_count": 3,
   "metadata": {},
   "outputs": [],
   "source": [
    "train_path = '/home/bigbrain/huy/Speech-emotion-recognition/images/Train/'\n",
    "test_path = '/home/bigbrain/huy/Speech-emotion-recognition/images/Public_Test/'"
   ]
  },
  {
   "cell_type": "code",
   "execution_count": 4,
   "metadata": {},
   "outputs": [],
   "source": [
    "data_audio = pd.read_csv('../csv/label_augmentation.csv')\n",
    "# data_audio.File = data_audio.File.str.replace('.wav','.png')\n",
    "data_audio.Label = data_audio.Label.astype(str)"
   ]
  },
  {
   "cell_type": "code",
   "execution_count": 5,
   "metadata": {},
   "outputs": [],
   "source": [
    "datagen = ImageDataGenerator(rescale=1./255.,validation_split=0.2)"
   ]
  },
  {
   "cell_type": "code",
   "execution_count": 6,
   "metadata": {},
   "outputs": [
    {
     "name": "stdout",
     "output_type": "stream",
     "text": [
      "Found 8367 validated image filenames belonging to 6 classes.\n"
     ]
    }
   ],
   "source": [
    "train_generator_vgg=datagen.flow_from_dataframe(\n",
    "    dataframe=data_audio,\n",
    "    directory=train_path,\n",
    "    x_col=\"File\",\n",
    "    y_col=\"Label\",\n",
    "    subset=\"training\",\n",
    "    batch_size=32,\n",
    "    seed=42,\n",
    "    shuffle=True,\n",
    "    class_mode=\"categorical\",\n",
    "    target_size=(64,64))"
   ]
  },
  {
   "cell_type": "code",
   "execution_count": 7,
   "metadata": {},
   "outputs": [
    {
     "name": "stdout",
     "output_type": "stream",
     "text": [
      "Found 2091 validated image filenames belonging to 6 classes.\n"
     ]
    }
   ],
   "source": [
    "valid_generator_vgg=datagen.flow_from_dataframe(\n",
    "    dataframe=data_audio,\n",
    "    directory=train_path,\n",
    "    x_col=\"File\",\n",
    "    y_col=\"Label\",\n",
    "    subset=\"validation\",\n",
    "    batch_size=32,\n",
    "    seed=42,\n",
    "    shuffle=True,\n",
    "    class_mode='categorical',\n",
    "    target_size=(64,64))"
   ]
  },
  {
   "cell_type": "code",
   "execution_count": 8,
   "metadata": {
    "scrolled": false
   },
   "outputs": [
    {
     "name": "stdout",
     "output_type": "stream",
     "text": [
      "WARNING:tensorflow:From /home/bigbrain/huy/Speech-emotion-recognition/emr/lib/python3.6/site-packages/tensorflow/python/ops/init_ops.py:1251: calling VarianceScaling.__init__ (from tensorflow.python.ops.init_ops) with dtype is deprecated and will be removed in a future version.\n",
      "Instructions for updating:\n",
      "Call initializer instance with the dtype argument instead of passing it to the constructor\n"
     ]
    }
   ],
   "source": [
    "inp = Input(shape=(64,64,3))  #2D matrix of 30 MFCC bands by 216 audio length.\n",
    "x = Convolution2D(32, (4,10), padding=\"same\")(inp)\n",
    "x = BatchNormalization()(x)\n",
    "x = Activation(\"relu\")(x)\n",
    "x = MaxPool2D()(x)\n",
    "x = Dropout(rate=0.2)(x)\n",
    "\n",
    "x = Convolution2D(32, (4,10), padding=\"same\")(x)\n",
    "x = BatchNormalization()(x)\n",
    "x = Activation(\"relu\")(x)\n",
    "x = MaxPool2D()(x)\n",
    "x = Dropout(rate=0.2)(x)\n",
    "\n",
    "x = Convolution2D(32, (4,10), padding=\"same\")(x)\n",
    "x = BatchNormalization()(x)\n",
    "x = Activation(\"relu\")(x)\n",
    "x = MaxPool2D()(x)\n",
    "x = Dropout(rate=0.2)(x)\n",
    "\n",
    "x = Convolution2D(32, (4,10), padding=\"same\")(x)\n",
    "x = BatchNormalization()(x)\n",
    "x = Activation(\"relu\")(x)\n",
    "x = MaxPool2D()(x)\n",
    "x = Dropout(rate=0.2)(x)\n",
    "\n",
    "x = Flatten()(x)\n",
    "x = Dense(64)(x)\n",
    "x = Dropout(rate=0.2)(x)\n",
    "x = BatchNormalization()(x)\n",
    "x = Activation(\"relu\")(x)\n",
    "x = Dropout(rate=0.2)(x)\n",
    "\n",
    "out = Dense(6, activation='softmax')(x)\n",
    "model = Model(inputs=inp, outputs=out)\n",
    "\n",
    "opt = optimizers.Adam(0.001)\n",
    "model.compile(optimizer=opt, loss='categorical_crossentropy', metrics=['acc'])"
   ]
  },
  {
   "cell_type": "code",
   "execution_count": 9,
   "metadata": {},
   "outputs": [],
   "source": [
    "model.compile(loss='categorical_crossentropy', optimizer='adam',\\\n",
    " metrics=['acc'])"
   ]
  },
  {
   "cell_type": "code",
   "execution_count": 10,
   "metadata": {
    "scrolled": true
   },
   "outputs": [
    {
     "name": "stdout",
     "output_type": "stream",
     "text": [
      "Epoch 1/100\n",
      "261/261 [==============================] - 10s 38ms/step - loss: 1.6479 - acc: 0.3335 - val_loss: 1.9644 - val_acc: 0.1625\n",
      "Epoch 2/100\n",
      "261/261 [==============================] - 8s 29ms/step - loss: 1.3997 - acc: 0.4257 - val_loss: 1.4089 - val_acc: 0.4505\n",
      "Epoch 3/100\n",
      "261/261 [==============================] - 8s 29ms/step - loss: 1.3093 - acc: 0.4740 - val_loss: 1.5822 - val_acc: 0.3572\n",
      "Epoch 4/100\n",
      "261/261 [==============================] - 8s 29ms/step - loss: 1.2469 - acc: 0.5050 - val_loss: 1.2557 - val_acc: 0.5053\n",
      "Epoch 5/100\n",
      "261/261 [==============================] - 8s 29ms/step - loss: 1.2052 - acc: 0.5309 - val_loss: 1.2259 - val_acc: 0.5269\n",
      "Epoch 6/100\n",
      "261/261 [==============================] - 8s 29ms/step - loss: 1.1726 - acc: 0.5441 - val_loss: 1.4792 - val_acc: 0.4514\n",
      "Epoch 7/100\n",
      "261/261 [==============================] - 8s 29ms/step - loss: 1.1253 - acc: 0.5624 - val_loss: 1.4530 - val_acc: 0.4173\n",
      "Epoch 8/100\n",
      "261/261 [==============================] - 8s 29ms/step - loss: 1.1012 - acc: 0.5732 - val_loss: 1.1976 - val_acc: 0.5505\n",
      "Epoch 9/100\n",
      "261/261 [==============================] - 8s 29ms/step - loss: 1.0766 - acc: 0.5866 - val_loss: 1.4793 - val_acc: 0.4365\n",
      "Epoch 10/100\n",
      "261/261 [==============================] - 8s 29ms/step - loss: 1.0474 - acc: 0.5962 - val_loss: 1.4639 - val_acc: 0.3817\n",
      "Epoch 11/100\n",
      "261/261 [==============================] - 8s 29ms/step - loss: 1.0165 - acc: 0.6112 - val_loss: 1.2641 - val_acc: 0.4880\n",
      "Epoch 12/100\n",
      "261/261 [==============================] - 8s 29ms/step - loss: 0.9836 - acc: 0.6248 - val_loss: 1.1169 - val_acc: 0.5899\n",
      "Epoch 13/100\n",
      "261/261 [==============================] - 8s 29ms/step - loss: 0.9744 - acc: 0.6342 - val_loss: 1.3619 - val_acc: 0.4803\n",
      "Epoch 14/100\n",
      "261/261 [==============================] - 8s 29ms/step - loss: 0.9352 - acc: 0.6386 - val_loss: 1.5373 - val_acc: 0.4274\n",
      "Epoch 15/100\n",
      "261/261 [==============================] - 8s 29ms/step - loss: 0.9136 - acc: 0.6510 - val_loss: 1.3668 - val_acc: 0.4899\n",
      "Epoch 16/100\n",
      "261/261 [==============================] - 8s 29ms/step - loss: 0.9042 - acc: 0.6527 - val_loss: 1.3080 - val_acc: 0.5178\n",
      "Epoch 17/100\n",
      "261/261 [==============================] - 8s 29ms/step - loss: 0.8713 - acc: 0.6770 - val_loss: 1.1969 - val_acc: 0.5625\n",
      "Epoch 18/100\n",
      "261/261 [==============================] - 8s 29ms/step - loss: 0.8543 - acc: 0.6791 - val_loss: 1.3009 - val_acc: 0.5159\n",
      "Epoch 19/100\n",
      "261/261 [==============================] - 8s 29ms/step - loss: 0.8151 - acc: 0.6972 - val_loss: 2.0547 - val_acc: 0.3438\n",
      "Epoch 20/100\n",
      "261/261 [==============================] - 8s 29ms/step - loss: 0.8114 - acc: 0.6950 - val_loss: 1.4769 - val_acc: 0.4611\n",
      "Epoch 21/100\n",
      "261/261 [==============================] - 8s 29ms/step - loss: 0.7642 - acc: 0.7145 - val_loss: 1.0581 - val_acc: 0.6077\n",
      "Epoch 22/100\n",
      "261/261 [==============================] - 8s 29ms/step - loss: 0.7440 - acc: 0.7187 - val_loss: 0.9793 - val_acc: 0.6226\n",
      "Epoch 23/100\n",
      "261/261 [==============================] - 8s 29ms/step - loss: 0.7457 - acc: 0.7167 - val_loss: 1.4033 - val_acc: 0.5038\n",
      "Epoch 24/100\n",
      "261/261 [==============================] - 8s 29ms/step - loss: 0.7173 - acc: 0.7283 - val_loss: 1.5427 - val_acc: 0.5356\n",
      "Epoch 25/100\n",
      "261/261 [==============================] - 8s 29ms/step - loss: 0.6978 - acc: 0.7419 - val_loss: 1.4919 - val_acc: 0.4904\n",
      "Epoch 26/100\n",
      "261/261 [==============================] - 7s 29ms/step - loss: 0.6854 - acc: 0.7443 - val_loss: 0.9255 - val_acc: 0.6630\n",
      "Epoch 27/100\n",
      "261/261 [==============================] - 7s 29ms/step - loss: 0.6701 - acc: 0.7453 - val_loss: 1.0544 - val_acc: 0.5793\n",
      "Epoch 28/100\n",
      "261/261 [==============================] - 8s 29ms/step - loss: 0.6482 - acc: 0.7587 - val_loss: 1.0495 - val_acc: 0.6024\n",
      "Epoch 29/100\n",
      "261/261 [==============================] - 7s 29ms/step - loss: 0.6264 - acc: 0.7634 - val_loss: 1.2371 - val_acc: 0.5702\n",
      "Epoch 30/100\n",
      "261/261 [==============================] - 8s 29ms/step - loss: 0.6307 - acc: 0.7690 - val_loss: 1.7269 - val_acc: 0.4313\n",
      "Epoch 31/100\n",
      "261/261 [==============================] - 7s 29ms/step - loss: 0.5905 - acc: 0.7801 - val_loss: 1.1501 - val_acc: 0.5582\n",
      "Epoch 32/100\n",
      "261/261 [==============================] - 7s 29ms/step - loss: 0.5834 - acc: 0.7809 - val_loss: 1.6654 - val_acc: 0.4750\n",
      "Epoch 33/100\n",
      "261/261 [==============================] - 7s 28ms/step - loss: 0.5638 - acc: 0.7881 - val_loss: 1.0066 - val_acc: 0.6245\n",
      "Epoch 34/100\n",
      "261/261 [==============================] - 7s 28ms/step - loss: 0.5514 - acc: 0.7941 - val_loss: 1.1322 - val_acc: 0.5630\n",
      "Epoch 35/100\n",
      "261/261 [==============================] - 7s 28ms/step - loss: 0.5568 - acc: 0.7960 - val_loss: 1.0574 - val_acc: 0.6385\n",
      "Epoch 36/100\n",
      "261/261 [==============================] - 7s 29ms/step - loss: 0.5385 - acc: 0.7992 - val_loss: 0.9141 - val_acc: 0.6750\n",
      "Epoch 37/100\n",
      "261/261 [==============================] - 8s 29ms/step - loss: 0.5241 - acc: 0.8101 - val_loss: 1.3404 - val_acc: 0.5625\n",
      "Epoch 38/100\n",
      "261/261 [==============================] - 8s 29ms/step - loss: 0.5165 - acc: 0.8079 - val_loss: 0.9060 - val_acc: 0.6726\n",
      "Epoch 39/100\n",
      "261/261 [==============================] - 8s 29ms/step - loss: 0.4970 - acc: 0.8174 - val_loss: 0.9474 - val_acc: 0.6856\n",
      "Epoch 40/100\n",
      "261/261 [==============================] - 8s 29ms/step - loss: 0.5102 - acc: 0.8091 - val_loss: 1.1663 - val_acc: 0.5548\n",
      "Epoch 41/100\n",
      "261/261 [==============================] - 8s 29ms/step - loss: 0.4958 - acc: 0.8174 - val_loss: 1.2882 - val_acc: 0.5889\n",
      "Epoch 42/100\n",
      "261/261 [==============================] - 8s 29ms/step - loss: 0.4782 - acc: 0.8252 - val_loss: 0.8895 - val_acc: 0.6856\n",
      "Epoch 43/100\n",
      "261/261 [==============================] - 8s 29ms/step - loss: 0.4748 - acc: 0.8230 - val_loss: 1.3792 - val_acc: 0.5591\n",
      "Epoch 44/100\n",
      "261/261 [==============================] - 8s 29ms/step - loss: 0.4709 - acc: 0.8254 - val_loss: 0.8283 - val_acc: 0.7029\n",
      "Epoch 45/100\n",
      "261/261 [==============================] - 8s 29ms/step - loss: 0.4386 - acc: 0.8384 - val_loss: 0.9494 - val_acc: 0.6606\n",
      "Epoch 46/100\n",
      "261/261 [==============================] - 8s 29ms/step - loss: 0.4526 - acc: 0.8308 - val_loss: 0.9709 - val_acc: 0.6668\n",
      "Epoch 47/100\n",
      "261/261 [==============================] - 7s 29ms/step - loss: 0.4367 - acc: 0.8369 - val_loss: 1.2558 - val_acc: 0.5625\n",
      "Epoch 48/100\n",
      "261/261 [==============================] - 8s 29ms/step - loss: 0.4386 - acc: 0.8389 - val_loss: 1.0202 - val_acc: 0.6245\n",
      "Epoch 49/100\n",
      "261/261 [==============================] - 7s 29ms/step - loss: 0.4562 - acc: 0.8311 - val_loss: 0.9824 - val_acc: 0.6639\n",
      "Epoch 50/100\n",
      "261/261 [==============================] - 7s 29ms/step - loss: 0.4273 - acc: 0.8472 - val_loss: 0.8873 - val_acc: 0.6880\n",
      "Epoch 51/100\n",
      "261/261 [==============================] - 8s 29ms/step - loss: 0.4310 - acc: 0.8460 - val_loss: 0.8970 - val_acc: 0.6933\n",
      "Epoch 52/100\n",
      "261/261 [==============================] - 7s 29ms/step - loss: 0.4273 - acc: 0.8452 - val_loss: 1.1052 - val_acc: 0.6587\n",
      "Epoch 53/100\n",
      "261/261 [==============================] - 8s 29ms/step - loss: 0.4087 - acc: 0.8515 - val_loss: 1.4045 - val_acc: 0.5933\n",
      "Epoch 54/100\n",
      "261/261 [==============================] - 7s 29ms/step - loss: 0.4046 - acc: 0.8486 - val_loss: 1.4877 - val_acc: 0.5745\n",
      "Epoch 55/100\n",
      "261/261 [==============================] - 8s 29ms/step - loss: 0.4222 - acc: 0.8443 - val_loss: 1.7466 - val_acc: 0.5317\n",
      "Epoch 56/100\n",
      "261/261 [==============================] - 8s 29ms/step - loss: 0.3933 - acc: 0.8574 - val_loss: 1.4214 - val_acc: 0.5697\n",
      "Epoch 57/100\n",
      "261/261 [==============================] - 8s 30ms/step - loss: 0.3932 - acc: 0.8584 - val_loss: 1.1253 - val_acc: 0.6212\n",
      "Epoch 58/100\n",
      "261/261 [==============================] - 8s 30ms/step - loss: 0.3864 - acc: 0.8591 - val_loss: 0.9089 - val_acc: 0.6865\n",
      "Epoch 59/100\n",
      "261/261 [==============================] - 8s 30ms/step - loss: 0.3727 - acc: 0.8638 - val_loss: 0.9205 - val_acc: 0.7000\n",
      "Epoch 60/100\n",
      "261/261 [==============================] - 8s 29ms/step - loss: 0.3873 - acc: 0.8583 - val_loss: 1.3670 - val_acc: 0.5880\n",
      "Epoch 61/100\n",
      "261/261 [==============================] - 8s 29ms/step - loss: 0.3661 - acc: 0.8665 - val_loss: 1.2851 - val_acc: 0.5750\n"
     ]
    },
    {
     "name": "stdout",
     "output_type": "stream",
     "text": [
      "Epoch 62/100\n",
      "261/261 [==============================] - 8s 29ms/step - loss: 0.3718 - acc: 0.8681 - val_loss: 0.7974 - val_acc: 0.7216\n",
      "Epoch 63/100\n",
      "261/261 [==============================] - 8s 29ms/step - loss: 0.3712 - acc: 0.8643 - val_loss: 1.2012 - val_acc: 0.6471\n",
      "Epoch 64/100\n",
      "261/261 [==============================] - 8s 29ms/step - loss: 0.3611 - acc: 0.8662 - val_loss: 1.2942 - val_acc: 0.6394\n",
      "Epoch 65/100\n",
      "261/261 [==============================] - 8s 29ms/step - loss: 0.3450 - acc: 0.8758 - val_loss: 0.8873 - val_acc: 0.7082\n",
      "Epoch 66/100\n",
      "261/261 [==============================] - 8s 29ms/step - loss: 0.3526 - acc: 0.8744 - val_loss: 1.9158 - val_acc: 0.5413\n",
      "Epoch 67/100\n",
      "261/261 [==============================] - 8s 29ms/step - loss: 0.3517 - acc: 0.8699 - val_loss: 0.8341 - val_acc: 0.7139\n",
      "Epoch 68/100\n",
      "261/261 [==============================] - 8s 29ms/step - loss: 0.3679 - acc: 0.8634 - val_loss: 0.8022 - val_acc: 0.7173\n",
      "Epoch 69/100\n",
      "261/261 [==============================] - 8s 29ms/step - loss: 0.3402 - acc: 0.8773 - val_loss: 1.0837 - val_acc: 0.6413\n",
      "Epoch 70/100\n",
      "261/261 [==============================] - 8s 29ms/step - loss: 0.3454 - acc: 0.8757 - val_loss: 0.7906 - val_acc: 0.7312\n",
      "Epoch 71/100\n",
      "261/261 [==============================] - 8s 29ms/step - loss: 0.3273 - acc: 0.8852 - val_loss: 0.9315 - val_acc: 0.6995\n",
      "Epoch 72/100\n",
      "261/261 [==============================] - 8s 29ms/step - loss: 0.3329 - acc: 0.8753 - val_loss: 0.9515 - val_acc: 0.6880\n",
      "Epoch 73/100\n",
      "261/261 [==============================] - 8s 29ms/step - loss: 0.3363 - acc: 0.8782 - val_loss: 0.9370 - val_acc: 0.6913\n",
      "Epoch 74/100\n",
      "261/261 [==============================] - 8s 29ms/step - loss: 0.3384 - acc: 0.8791 - val_loss: 1.2843 - val_acc: 0.6111\n",
      "Epoch 75/100\n",
      "261/261 [==============================] - 8s 29ms/step - loss: 0.3297 - acc: 0.8799 - val_loss: 0.9359 - val_acc: 0.7043\n",
      "Epoch 76/100\n",
      "261/261 [==============================] - 8s 29ms/step - loss: 0.3257 - acc: 0.8828 - val_loss: 0.8690 - val_acc: 0.7188\n",
      "Epoch 77/100\n",
      "261/261 [==============================] - 8s 29ms/step - loss: 0.3067 - acc: 0.8899 - val_loss: 1.0484 - val_acc: 0.6817\n",
      "Epoch 78/100\n",
      "261/261 [==============================] - 8s 29ms/step - loss: 0.3103 - acc: 0.8892 - val_loss: 1.0885 - val_acc: 0.6606\n",
      "Epoch 79/100\n",
      "261/261 [==============================] - 8s 29ms/step - loss: 0.3217 - acc: 0.8859 - val_loss: 0.9344 - val_acc: 0.6731\n",
      "Epoch 80/100\n",
      "261/261 [==============================] - 8s 29ms/step - loss: 0.3059 - acc: 0.8894 - val_loss: 1.7884 - val_acc: 0.5087\n",
      "Epoch 81/100\n",
      "261/261 [==============================] - 8s 29ms/step - loss: 0.3118 - acc: 0.8919 - val_loss: 1.0834 - val_acc: 0.6457\n",
      "Epoch 82/100\n",
      "261/261 [==============================] - 8s 29ms/step - loss: 0.3075 - acc: 0.8911 - val_loss: 0.9251 - val_acc: 0.6962\n",
      "Epoch 83/100\n",
      "261/261 [==============================] - 8s 29ms/step - loss: 0.3010 - acc: 0.8915 - val_loss: 1.1378 - val_acc: 0.6716\n",
      "Epoch 84/100\n",
      "261/261 [==============================] - 8s 29ms/step - loss: 0.3140 - acc: 0.8876 - val_loss: 1.0737 - val_acc: 0.6726\n",
      "Epoch 85/100\n",
      "261/261 [==============================] - 8s 29ms/step - loss: 0.2968 - acc: 0.8920 - val_loss: 0.9231 - val_acc: 0.7024\n",
      "Epoch 86/100\n",
      "261/261 [==============================] - 8s 30ms/step - loss: 0.2922 - acc: 0.8948 - val_loss: 0.9091 - val_acc: 0.7240\n",
      "Epoch 87/100\n",
      "261/261 [==============================] - 8s 29ms/step - loss: 0.3142 - acc: 0.8883 - val_loss: 0.8145 - val_acc: 0.7341\n",
      "Epoch 88/100\n",
      "261/261 [==============================] - 8s 29ms/step - loss: 0.2835 - acc: 0.8975 - val_loss: 0.8185 - val_acc: 0.7303\n",
      "Epoch 89/100\n",
      "261/261 [==============================] - 8s 29ms/step - loss: 0.2851 - acc: 0.8969 - val_loss: 1.3779 - val_acc: 0.6346\n",
      "Epoch 90/100\n",
      "261/261 [==============================] - 8s 29ms/step - loss: 0.3106 - acc: 0.8858 - val_loss: 0.9668 - val_acc: 0.6904\n",
      "Epoch 91/100\n",
      "261/261 [==============================] - 8s 29ms/step - loss: 0.2928 - acc: 0.8962 - val_loss: 0.8440 - val_acc: 0.7168\n",
      "Epoch 92/100\n",
      "261/261 [==============================] - 8s 29ms/step - loss: 0.2873 - acc: 0.8951 - val_loss: 0.8196 - val_acc: 0.7337\n",
      "Epoch 93/100\n",
      "261/261 [==============================] - 8s 29ms/step - loss: 0.2976 - acc: 0.8929 - val_loss: 0.9716 - val_acc: 0.7115\n",
      "Epoch 94/100\n",
      "261/261 [==============================] - 8s 29ms/step - loss: 0.2920 - acc: 0.8932 - val_loss: 0.8690 - val_acc: 0.6933\n",
      "Epoch 95/100\n",
      "261/261 [==============================] - 8s 29ms/step - loss: 0.2694 - acc: 0.9023 - val_loss: 0.8898 - val_acc: 0.7188\n",
      "Epoch 96/100\n",
      "261/261 [==============================] - 8s 29ms/step - loss: 0.2777 - acc: 0.9008 - val_loss: 1.3161 - val_acc: 0.6332\n",
      "Epoch 97/100\n",
      "261/261 [==============================] - 8s 29ms/step - loss: 0.2836 - acc: 0.9022 - val_loss: 0.8223 - val_acc: 0.7462\n",
      "Epoch 98/100\n",
      "261/261 [==============================] - 8s 29ms/step - loss: 0.2695 - acc: 0.9038 - val_loss: 0.9653 - val_acc: 0.7058\n",
      "Epoch 99/100\n",
      "261/261 [==============================] - 8s 29ms/step - loss: 0.2738 - acc: 0.9033 - val_loss: 0.9264 - val_acc: 0.6986\n",
      "Epoch 100/100\n",
      "261/261 [==============================] - 8s 29ms/step - loss: 0.2686 - acc: 0.9059 - val_loss: 1.0206 - val_acc: 0.6798\n"
     ]
    }
   ],
   "source": [
    "### Train model\n",
    "history = model.fit_generator(generator=train_generator_vgg,\n",
    "                    steps_per_epoch=int(np.ceil(train_generator_vgg.n//float(train_generator_vgg.batch_size))),\n",
    "                    validation_data=valid_generator_vgg,\n",
    "                    validation_steps=int(np.ceil(valid_generator_vgg.n//float(valid_generator_vgg.batch_size))),\n",
    "                    epochs=100,\n",
    "                    shuffle=True,\n",
    "                    verbose=1,\n",
    ")\n",
    "\n",
    "# Luu model\n",
    "# model.save(\"../model/cnn_v2.h5\")\n",
    "# np.save('../npz/model_indices', train_generator_vgg.model_indices)\n",
    "# with open('model_indices.pickle', 'wb') as handle:\n",
    "#     pickle.dump(train_generator_vgg.model_indices, handle, protocol=pickle.HIGHEST_PROTOCOL)\n",
    "\n",
    "# print(\"Saved model!\")"
   ]
  },
  {
   "cell_type": "code",
   "execution_count": 11,
   "metadata": {},
   "outputs": [],
   "source": [
    "# model.save(\"../model/incepv3_erc.h5\")"
   ]
  },
  {
   "cell_type": "code",
   "execution_count": 12,
   "metadata": {},
   "outputs": [
    {
     "data": {
      "text/plain": [
       "Text(0.5, 1.0, 'Training and Validation loss')"
      ]
     },
     "execution_count": 12,
     "metadata": {},
     "output_type": "execute_result"
    },
    {
     "data": {
      "image/png": "[encoded data removed]",
      "text/plain": [
       "<Figure size 576x576 with 2 Axes>"
      ]
     },
     "metadata": {
      "needs_background": "light"
     },
     "output_type": "display_data"
    }
   ],
   "source": [
    "acc = history.history[\"acc\"]\n",
    "val_acc = history.history[\"val_acc\"]\n",
    "\n",
    "loss = history.history[\"loss\"]\n",
    "val_loss = history.history[\"val_loss\"]\n",
    "\n",
    "epochs_range = range(100)\n",
    "\n",
    "plt.figure(figsize=(8,8))\n",
    "plt.subplot(1,2,1)\n",
    "plt.plot(epochs_range, acc, label=\"Training Accuracy\")\n",
    "plt.plot(epochs_range, val_acc, label=\"Validation Accuracy\")\n",
    "plt.legend(loc=\"lower right\")\n",
    "plt.title(\"Training and Validation accuracy\")\n",
    "\n",
    "plt.subplot(1,2,2)\n",
    "plt.plot(epochs_range, loss, label=\"Training loss\")\n",
    "plt.plot(epochs_range, val_loss, label=\"Validation loss\")\n",
    "plt.legend(loc=\"lower right\")\n",
    "plt.title(\"Training and Validation loss\")\n",
    "# plt.savefig('../graphs/cnn_last.png')"
   ]
  },
  {
   "cell_type": "code",
   "execution_count": 13,
   "metadata": {},
   "outputs": [],
   "source": [
    "def append_defaut(fn):\n",
    "    return fn.split('.')[0] + '_defaut.png'"
   ]
  },
  {
   "cell_type": "code",
   "execution_count": 14,
   "metadata": {},
   "outputs": [],
   "source": [
    "def append_ext(fn):\n",
    "    return fn.replace(\".wav\",\".png\")\n",
    "\n",
    "# Load du lieu test\n",
    "testdf=pd.read_csv('./test.csv')\n",
    "testdf[\"File\"]=testdf[\"File\"].apply(append_ext)\n",
    "\n",
    "test_data_path=test_path"
   ]
  },
  {
   "cell_type": "code",
   "execution_count": 15,
   "metadata": {},
   "outputs": [],
   "source": [
    "testdf[\"File\"]=testdf[\"File\"].apply(append_defaut)"
   ]
  },
  {
   "cell_type": "code",
   "execution_count": 16,
   "metadata": {},
   "outputs": [
    {
     "name": "stdout",
     "output_type": "stream",
     "text": [
      "Found 1106 validated image filenames.\n",
      "79/79 [==============================] - 2s 22ms/step\n"
     ]
    }
   ],
   "source": [
    "# Khoi tao du lieu test\n",
    "test_datagen=ImageDataGenerator(rescale=1./255.)\n",
    "test_generator=test_datagen.flow_from_dataframe(\n",
    "    dataframe=testdf,\n",
    "    directory=test_data_path,\n",
    "    x_col=\"File\",\n",
    "    y_col=None,\n",
    "    batch_size=14,\n",
    "    seed=42,\n",
    "    shuffle=False,\n",
    "    class_mode=None,\n",
    "    target_size=(64,64))\n",
    "\n",
    "# TInh so buoc test\n",
    "STEP_SIZE_TEST=test_generator.n//test_generator.batch_size\n",
    "\n",
    "# Tien hanh predict\n",
    "test_generator.reset()\n",
    "\n",
    "# batch_size = 12\n",
    "# Load model da train\n",
    "# model = load_model('model.h5')\n",
    "pred = model.predict_generator(test_generator,steps=STEP_SIZE_TEST,verbose=1)\n",
    "\n",
    "# Lay class predict probality lon nhat\n",
    "predicted_class_indices=np.argmax(pred,axis=-1)"
   ]
  },
  {
   "cell_type": "code",
   "execution_count": 17,
   "metadata": {},
   "outputs": [],
   "source": [
    "submit_df = testdf\n",
    "submit_df[\"Label\"] = predicted_class_indices"
   ]
  },
  {
   "cell_type": "code",
   "execution_count": 18,
   "metadata": {},
   "outputs": [],
   "source": [
    "def png_to_wav(fn):\n",
    "    return fn.replace(\".png\",\".wav\")\n",
    "submit_df[\"File\"]=submit_df[\"File\"].apply(png_to_wav)"
   ]
  },
  {
   "cell_type": "code",
   "execution_count": 19,
   "metadata": {},
   "outputs": [],
   "source": [
    "def split_defaut(fn):\n",
    "    return fn.split('_')[0] + '.wav'\n",
    "\n",
    "submit_df[\"File\"]=submit_df[\"File\"].apply(split_defaut)"
   ]
  },
  {
   "cell_type": "code",
   "execution_count": 20,
   "metadata": {},
   "outputs": [],
   "source": [
    "pb_test = pd.read_csv('../csv/public_label.csv')"
   ]
  },
  {
   "cell_type": "code",
   "execution_count": 21,
   "metadata": {},
   "outputs": [
    {
     "name": "stdout",
     "output_type": "stream",
     "text": [
      "573\n",
      "Accuaracy: 0.5181\n"
     ]
    }
   ],
   "source": [
    "count = 0\n",
    "for f in submit_df.File:\n",
    "    sbmit = submit_df[submit_df[\"File\"] == f][\"Label\"].item()\n",
    "    pbtest = pb_test[pb_test[\"File\"] == f][\"Label\"].item()\n",
    "    if sbmit == pbtest:\n",
    "        count += 1\n",
    "print(count)\n",
    "print(f'Accuaracy: {round(count/len(submit_df), 4)}')"
   ]
  },
  {
   "cell_type": "markdown",
   "metadata": {},
   "source": [
    "# Use pre-trained model MobileNet"
   ]
  },
  {
   "cell_type": "code",
   "execution_count": null,
   "metadata": {},
   "outputs": [],
   "source": [
    "from keras.applications import MobileNetV2"
   ]
  },
  {
   "cell_type": "code",
   "execution_count": null,
   "metadata": {
    "scrolled": true
   },
   "outputs": [],
   "source": [
    "vgg = tf.keras.applications.VGG16(weights='imagenet', include_top=True)\n",
    "vgg.summary()"
   ]
  },
  {
   "cell_type": "code",
   "execution_count": null,
   "metadata": {},
   "outputs": [],
   "source": [
    "tf.keras.backend.clear_session()\n",
    "\n",
    "def change_model(model, new_input_shape=(None, 40, 40, 3)):\n",
    "    # replace input shape of first layer\n",
    "    model._layers[0].batch_input_shape = new_input_shape\n",
    "\n",
    "    # rebuild model architecture by exporting and importing via json\n",
    "    new_model = tf.keras.models.model_from_json(model.to_json())\n",
    "\n",
    "    # copy weights from old model to new one\n",
    "    for layer in new_model.layers:\n",
    "        try:\n",
    "            layer.set_weights(model.get_layer(name=layer.name).get_weights())\n",
    "            print(\"Loaded layer {}\".format(layer.name))\n",
    "        except:\n",
    "            print(\"Could not transfer weights for layer {}\".format(layer.name))\n",
    "\n",
    "    return new_model"
   ]
  }
 ],
 "metadata": {
  "kernelspec": {
   "display_name": "Python 3",
   "language": "python",
   "name": "python3"
  },
  "language_info": {
   "codemirror_mode": {
    "name": "ipython",
    "version": 3
   },
   "file_extension": ".py",
   "mimetype": "text/x-python",
   "name": "python",
   "nbconvert_exporter": "python",
   "pygments_lexer": "ipython3",
   "version": "3.6.9"
  }
 },
 "nbformat": 4,
 "nbformat_minor": 2
}
